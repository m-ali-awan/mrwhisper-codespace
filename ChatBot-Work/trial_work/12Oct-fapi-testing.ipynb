{
 "cells": [
  {
   "cell_type": "markdown",
   "id": "1014b292-e6d5-44c0-9a15-9bb9ced8c991",
   "metadata": {},
   "source": [
    "# Imports"
   ]
  },
  {
   "cell_type": "code",
   "execution_count": 1,
   "id": "dfe7431c-f3fa-4b02-b9e2-a7e2bbce5e9e",
   "metadata": {},
   "outputs": [],
   "source": [
    "import requests"
   ]
  },
  {
   "cell_type": "code",
   "execution_count": 2,
   "id": "03c15196-080e-4980-9a14-17cfafc017eb",
   "metadata": {},
   "outputs": [],
   "source": [
    "import os\n",
    "from pathlib import Path\n",
    "import shutil\n"
   ]
  },
  {
   "cell_type": "code",
   "execution_count": 3,
   "id": "edd144b8-66dd-4322-8a69-14da7dc9f1aa",
   "metadata": {},
   "outputs": [],
   "source": [
    "BASE_URL = \"http://127.0.0.1:8000\""
   ]
  },
  {
   "cell_type": "markdown",
   "id": "226bf3ac-e8be-41c7-b53a-c83ba637a271",
   "metadata": {},
   "source": [
    "# Work"
   ]
  },
  {
   "cell_type": "code",
   "execution_count": null,
   "id": "d98b075d-c00d-4148-9ade-79a4be6e1c7b",
   "metadata": {},
   "outputs": [],
   "source": []
  },
  {
   "cell_type": "code",
   "execution_count": null,
   "id": "91aa6ec2-d858-47f5-87fb-96124cf9c89c",
   "metadata": {},
   "outputs": [],
   "source": []
  },
  {
   "cell_type": "markdown",
   "id": "c32ba942-bb3c-4aae-9cad-825871d2c5c6",
   "metadata": {},
   "source": [
    "## Testing APIs"
   ]
  },
  {
   "cell_type": "code",
   "execution_count": 6,
   "id": "25c10590-d350-43fc-8e3a-a71c0f3abaea",
   "metadata": {},
   "outputs": [],
   "source": [
    "query = \"What is Resolve Davinci\"\n"
   ]
  },
  {
   "cell_type": "code",
   "execution_count": 7,
   "id": "15bcf7bc-950b-4adb-8f11-1e17bde50062",
   "metadata": {},
   "outputs": [
    {
     "name": "stdout",
     "output_type": "stream",
     "text": [
      "{'response': \"DaVinci Resolve is a color correction and non-linear video editing (NLE) application for macOS, Windows, and Linux, originally developed by da Vinci Systems, and now developed by Blackmagic Design. \\n\\nIn the context of your knowledgebase, 'Resolve' refers to the main object used to access the DaVinci Resolve scripting API. This API allows developers to automate some tasks in DaVinci Resolve, such as creating a project, accessing the Fusion object for Fusion scripts, and getting media storage. \\n\\nThe Resolve object can be inspected to see its properties and functions, and it provides the starting point for scripting in DaVinci Resolve. Scripts for DaVinci Resolve can be written in Lua and Python programming languages.\\n\"}\n"
     ]
    }
   ],
   "source": [
    "response = requests.post(f\"{BASE_URL}/ask/\", json={\"query\": query,\n",
    "                                                  \"chat_summary\":''})\n",
    "print(response.json())\n"
   ]
  },
  {
   "cell_type": "code",
   "execution_count": 14,
   "id": "600a4554-a0be-42ba-a784-d8b85d725f1c",
   "metadata": {},
   "outputs": [
    {
     "data": {
      "text/plain": [
       "(dict, str)"
      ]
     },
     "execution_count": 14,
     "metadata": {},
     "output_type": "execute_result"
    }
   ],
   "source": [
    "type(response.json()), type(response.json()['response'])"
   ]
  },
  {
   "cell_type": "raw",
   "id": "4b206fe3-f604-4576-a5c4-1f977ae35b76",
   "metadata": {},
   "source": [
    "response = requests.post(f\"{BASE_URL}/ask/\", json={\"query\": query,\n",
    "                                                  \"chat_summary\":''})\n",
    "print(response.json())\n"
   ]
  },
  {
   "cell_type": "code",
   "execution_count": null,
   "id": "2749ef17-c24e-4674-a37e-f54bbba3c813",
   "metadata": {},
   "outputs": [],
   "source": [
    "{'response': 'To get a vector store in Pinecone, you need to follow these steps:\\n\\n1. Import the Pinecone library:\\n```python\\nimport pinecone\\n```\\n\\n2. Initialize the Pinecone client:\\n```python\\npinecone.init(api_key=\"YOUR_API_KEY\")\\n```\\n3. Create a new vector store:\\n```python\\npinecone.create_index(index_name=\"my-vector-store\", metric=\"euclidean\")\\n```\\n4. Get the vector store:\\n```python\\npinecone.deployment_status(index_name=\"my-vector-store\")\\n```\\n\\nThis will return the status of your vector store.\\n\\nPlease replace `\"YOUR_API_KEY\"` with your actual Pinecone API key, and `\"my-vector-store\"` with the name you want to give your vector store. \\n\\nPlease note that this is a generic method to create and get a vector store in Pinecone, and the actual code may vary depending on the specifics of your use case and the environment in which you are working.'}"
   ]
  }
 ],
 "metadata": {
  "kernelspec": {
   "display_name": "langchain-3.10.2",
   "language": "python",
   "name": "langchain-3.10.2"
  },
  "language_info": {
   "codemirror_mode": {
    "name": "ipython",
    "version": 3
   },
   "file_extension": ".py",
   "mimetype": "text/x-python",
   "name": "python",
   "nbconvert_exporter": "python",
   "pygments_lexer": "ipython3",
   "version": "3.10.2"
  }
 },
 "nbformat": 4,
 "nbformat_minor": 5
}
