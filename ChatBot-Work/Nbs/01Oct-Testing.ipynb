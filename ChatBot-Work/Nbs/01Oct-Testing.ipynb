{
 "cells": [
  {
   "cell_type": "markdown",
   "id": "bd4d3205-154a-403e-9e31-675f54e57949",
   "metadata": {},
   "source": [
    "# Imports"
   ]
  },
  {
   "cell_type": "code",
   "execution_count": 1,
   "id": "a141f0c9-97a5-4820-869a-e4e6fba80dcb",
   "metadata": {},
   "outputs": [],
   "source": [
    "import streamlit_authenticator as stauth\n"
   ]
  },
  {
   "cell_type": "markdown",
   "id": "561f0ad5-73d8-4835-bd5f-753d43980777",
   "metadata": {},
   "source": [
    "# Paths"
   ]
  },
  {
   "cell_type": "code",
   "execution_count": 2,
   "id": "0d79bfe0-9630-4101-bc64-98cc90c8041f",
   "metadata": {},
   "outputs": [],
   "source": [
    "config_pth = '/home/ubuntu/workspace/mrwhisper-codespace/ChatBot-Work/web_app/authentication_config.yaml'"
   ]
  },
  {
   "cell_type": "code",
   "execution_count": null,
   "id": "784bef3b-a96f-4395-ba07-83fb65dcaf58",
   "metadata": {},
   "outputs": [],
   "source": []
  },
  {
   "cell_type": "markdown",
   "id": "68475b7a-509c-4530-89ec-e14f3ec2b5a2",
   "metadata": {},
   "source": [
    "# Work"
   ]
  },
  {
   "cell_type": "code",
   "execution_count": 3,
   "id": "aa4cfec8-4c1b-4aec-bb35-0291c9de7f3e",
   "metadata": {},
   "outputs": [
    {
     "data": {
      "text/plain": [
       "['$2b$12$YvnGjUUFv35QRNz/J9o0iOVrBWQPaabqsS.AtqdEsbOIkk/iD058W',\n",
       " '$2b$12$Oo4hGsQwHLvJfWJvqUMKZOSvzjsI/kpFNx5P3GXLE5hhERcf6wfxi']"
      ]
     },
     "execution_count": 3,
     "metadata": {},
     "output_type": "execute_result"
    }
   ],
   "source": [
    "hashed_passwords = stauth.Hasher(['misterwhisper-admin', 'misterwhisper-dev']).generate()\n",
    "hashed_passwords"
   ]
  },
  {
   "cell_type": "code",
   "execution_count": null,
   "id": "01e07995-3f1e-4c30-a64e-54ecaf992dba",
   "metadata": {},
   "outputs": [],
   "source": []
  }
 ],
 "metadata": {
  "kernelspec": {
   "display_name": "langchain-3.10.2",
   "language": "python",
   "name": "langchain-3.10.2"
  },
  "language_info": {
   "codemirror_mode": {
    "name": "ipython",
    "version": 3
   },
   "file_extension": ".py",
   "mimetype": "text/x-python",
   "name": "python",
   "nbconvert_exporter": "python",
   "pygments_lexer": "ipython3",
   "version": "3.10.2"
  }
 },
 "nbformat": 4,
 "nbformat_minor": 5
}
