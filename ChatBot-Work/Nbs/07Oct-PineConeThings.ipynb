{
 "cells": [
  {
   "cell_type": "markdown",
   "id": "a60f19ea-bbe9-4d78-8d9a-bd9a3a2370b0",
   "metadata": {},
   "source": [
    "# Imports"
   ]
  },
  {
   "cell_type": "code",
   "execution_count": 1,
   "id": "d799dee9-404f-42db-9be9-9afcfb2335b9",
   "metadata": {},
   "outputs": [],
   "source": [
    "%load_ext autoreload\n",
    "%autoreload 2\n"
   ]
  },
  {
   "cell_type": "code",
   "execution_count": 2,
   "id": "9c8c7cf7-47dd-4017-9fc8-13684a00b8e6",
   "metadata": {},
   "outputs": [],
   "source": [
    "import sys"
   ]
  },
  {
   "cell_type": "code",
   "execution_count": 3,
   "id": "8f4a0631-d6c0-4aa7-8ead-2a20c56e3076",
   "metadata": {},
   "outputs": [
    {
     "name": "stderr",
     "output_type": "stream",
     "text": [
      "/home/ubuntu/.pyenv/versions/langchain-3.10.2/lib/python3.10/site-packages/pinecone/index.py:4: TqdmWarning: IProgress not found. Please update jupyter and ipywidgets. See https://ipywidgets.readthedocs.io/en/stable/user_install.html\n",
      "  from tqdm.autonotebook import tqdm\n"
     ]
    }
   ],
   "source": [
    "from langchain.text_splitter import RecursiveCharacterTextSplitter\n",
    "from langchain.embeddings import OpenAIEmbeddings\n",
    "import pinecone\n",
    "import openai\n",
    "from langchain.document_loaders import DirectoryLoader, Docx2txtLoader, TextLoader\n",
    "from langchain.vectorstores import Pinecone\n"
   ]
  },
  {
   "cell_type": "code",
   "execution_count": 4,
   "id": "6be9d2b2-17f7-44c8-a338-1b93e03fc509",
   "metadata": {},
   "outputs": [],
   "source": [
    "from langchain.document_loaders import Docx2txtLoader"
   ]
  },
  {
   "cell_type": "markdown",
   "id": "eb5a6153-d44f-409f-8a8f-f34f825dd88a",
   "metadata": {},
   "source": [
    "# PAths and creds"
   ]
  },
  {
   "cell_type": "code",
   "execution_count": 5,
   "id": "32fc25a3-e923-46b4-bb11-b1d3a67c373d",
   "metadata": {},
   "outputs": [],
   "source": [
    "import sys\n",
    "sys.path.append('/home/ubuntu/workspace/Creds')\n",
    "from openai_config import OPENAI_API_KEY, MW_ENVIRONMENT, MW_PINECONE_API_KEY\n",
    "openai.api_key = OPENAI_API_KEY"
   ]
  },
  {
   "cell_type": "code",
   "execution_count": 6,
   "id": "8d26d3f7-1e83-48ae-b944-52c50a92d2c1",
   "metadata": {},
   "outputs": [],
   "source": [
    "embeddings = OpenAIEmbeddings(model = 'text-embedding-ada-002',\n",
    "                              openai_api_key= OPENAI_API_KEY)"
   ]
  },
  {
   "cell_type": "code",
   "execution_count": 7,
   "id": "59f8571a-3afb-44b5-b754-c226d0d9104b",
   "metadata": {},
   "outputs": [],
   "source": [
    "pinecone_mw_index_name = 'minimal-index-dynamic-chatbot'"
   ]
  },
  {
   "cell_type": "code",
   "execution_count": 8,
   "id": "d487dbff-c22b-439b-9999-4aee13d8c875",
   "metadata": {},
   "outputs": [],
   "source": [
    "pinecone.init(\n",
    "    api_key= MW_PINECONE_API_KEY,  # find at app.pinecone.io\n",
    "    environment= MW_ENVIRONMENT,  # next to api key in console\n",
    ")"
   ]
  },
  {
   "cell_type": "markdown",
   "id": "1cec3564-3d23-4633-8d43-aeba6e3c6455",
   "metadata": {},
   "source": [
    "# Fns, and variables"
   ]
  },
  {
   "cell_type": "code",
   "execution_count": 9,
   "id": "345e1480-c3e3-4b1f-a5e5-139d59bd4c01",
   "metadata": {},
   "outputs": [],
   "source": [
    "text_splitter = RecursiveCharacterTextSplitter(\n",
    "    separators=[\"#\",\"##\", \"###\", \"\\\\n\\\\n\",\"\\\\n\",\".\", '\\n'],\n",
    "    chunk_size=1500,\n",
    "    chunk_overlap=100)"
   ]
  },
  {
   "cell_type": "code",
   "execution_count": null,
   "id": "d0ccda77-a129-4993-8ada-a05ec2e24686",
   "metadata": {},
   "outputs": [],
   "source": [
    "def return_docs_from_pinecone_raw(pinecone_index, query, embeddings =embeddings):\n",
    "\n",
    "\n",
    "    '''\n",
    "    will return top 3 relevant chunks, and also top one, for decision making\n",
    "    '''\n",
    "    query_vector = embeddings.embed_query(query)\n",
    "    docs = pinecone_index.query(query_vector,top_k=3,include_metadata=True)\n",
    "    contexts = [\n",
    "        x['metadata']['text'] for x in docs['matches']\n",
    "    ]\n",
    "    final_str = ''\n",
    "    for one in contexts:\n",
    "        final_str += one\n",
    "        final_str +='\\n\\n\\n\\n'\n",
    "\n",
    "    return final_str, contexts[0]\n",
    "    "
   ]
  },
  {
   "cell_type": "code",
   "execution_count": 60,
   "id": "4ca86a4d-61b5-44d8-a625-0a40a4e04188",
   "metadata": {},
   "outputs": [],
   "source": [
    "def return_docs_from_pinecone_lang(pinecone_index, query, embeddings =embeddings):\n",
    "\n",
    "    '''\n",
    "    will return top 3 relevant chunks, and also top one, for decision making\n",
    "    '''\n",
    "    \n",
    "    docs = pinecone_index.similarity_search(query, k =3)\n",
    "\n",
    "    final_str = ''\n",
    "    for one in docs:\n",
    "        final_str += one.page_content\n",
    "        final_str +='\\n\\n\\n\\n'\n",
    "\n",
    "    return final_str, docs[0].page_content\n",
    "    "
   ]
  },
  {
   "cell_type": "code",
   "execution_count": 52,
   "id": "50d57de8-96ca-44d3-bb85-10508df675b3",
   "metadata": {},
   "outputs": [],
   "source": [
    "def update_pinecone_texts(pinecone_index, texts_to_add, index_name):\n",
    "    \n",
    "    #index_name = pinecone_index.configuration.server_variables['index_name']\n",
    "    updated_index = Pinecone.from_texts(texts_to_add,embeddings, index_name = index_name)\n",
    "    return updated_index\n",
    "def update_pinecone_docs(pinecone_index, docs_to_add, index_name):\n",
    "\n",
    "    #index_name = pinecone_index.configuration.server_variables['index_name']\n",
    "    updated_index = Pinecone.from_documents(docs_to_add,embeddings, index_name = index_name)\n",
    "    return updated_index"
   ]
  },
  {
   "cell_type": "markdown",
   "id": "85ab2260-815d-4121-82bf-15a122b30712",
   "metadata": {},
   "source": [
    "# Work"
   ]
  },
  {
   "cell_type": "code",
   "execution_count": null,
   "id": "8f623579-2028-40d8-9cc5-5d27cdc92884",
   "metadata": {},
   "outputs": [],
   "source": []
  },
  {
   "cell_type": "markdown",
   "id": "bbd184d6-9306-404e-a3a9-e2931b14751e",
   "metadata": {},
   "source": [
    "## upserting the index"
   ]
  },
  {
   "cell_type": "code",
   "execution_count": 34,
   "id": "64a0a2f9-991b-4f72-8bd8-dce6621195a3",
   "metadata": {},
   "outputs": [],
   "source": [
    "docx_doc = Docx2txtLoader('/home/ubuntu/workspace/mrwhisper-codespace/ChatBot-Work/web_app/knowledgebase/resolve-readme-summary.docx')\n"
   ]
  },
  {
   "cell_type": "code",
   "execution_count": 35,
   "id": "f5803163-6b6b-4511-97a7-c8861ff44e0c",
   "metadata": {},
   "outputs": [],
   "source": [
    "documents = docx_doc.load()"
   ]
  },
  {
   "cell_type": "code",
   "execution_count": 36,
   "id": "0a99043e-aa29-4f76-a16b-e4af7039833e",
   "metadata": {},
   "outputs": [],
   "source": [
    "docs = text_splitter.split_documents(documents)"
   ]
  },
  {
   "cell_type": "code",
   "execution_count": 37,
   "id": "fcfd580c-dd01-4be3-8257-be43aee7b8fc",
   "metadata": {},
   "outputs": [
    {
     "data": {
      "text/plain": [
       "['minimal-index-dynamic-chatbot', 'mw-index-1']"
      ]
     },
     "execution_count": 37,
     "metadata": {},
     "output_type": "execute_result"
    }
   ],
   "source": [
    "pinecone.list_indexes()"
   ]
  },
  {
   "cell_type": "code",
   "execution_count": 15,
   "id": "d8ff7159-abd7-414c-bf8d-d70169cb5dc2",
   "metadata": {},
   "outputs": [
    {
     "data": {
      "text/plain": [
       "74"
      ]
     },
     "execution_count": 15,
     "metadata": {},
     "output_type": "execute_result"
    }
   ],
   "source": [
    "len(docs)"
   ]
  },
  {
   "cell_type": "code",
   "execution_count": 38,
   "id": "c5a3fd60-06f1-44bb-a7ed-20a5ea6e387a",
   "metadata": {},
   "outputs": [],
   "source": [
    "docsearch = Pinecone.from_documents(docs, embeddings, index_name=pinecone_mw_index_name)\n"
   ]
  },
  {
   "cell_type": "markdown",
   "id": "a6bb532a-58ce-43dc-a2f1-283bab3da7e7",
   "metadata": {},
   "source": [
    "### Full workflow with pinecone, depiction"
   ]
  },
  {
   "cell_type": "code",
   "execution_count": 11,
   "id": "0ab87397-57bb-4835-9734-fbf7ebc26870",
   "metadata": {},
   "outputs": [],
   "source": [
    "sys.path.append('/home/ubuntu/workspace/mrwhisper-codespace/ChatBot-Work/trial_work')"
   ]
  },
  {
   "cell_type": "code",
   "execution_count": 14,
   "id": "9f28db54-4c27-4133-81eb-3813595d682f",
   "metadata": {},
   "outputs": [],
   "source": [
    "from plain_help import *"
   ]
  },
  {
   "cell_type": "code",
   "execution_count": 43,
   "id": "1cdba0e4-c9cc-4551-931b-7a329e002efb",
   "metadata": {},
   "outputs": [],
   "source": [
    "docsearch = Pinecone.get_pinecone_index(pinecone_mw_index_name)"
   ]
  },
  {
   "cell_type": "code",
   "execution_count": 16,
   "id": "67246386-7f3c-4771-9f2e-1596d92db37b",
   "metadata": {},
   "outputs": [
    {
     "data": {
      "text/plain": [
       "(<function plain_help.update_pinecone_docs(pinecone_index, docs_to_add, index_name)>,\n",
       " <function plain_help.update_pinecone_texts(pinecone_index, texts_to_add, index_name)>)"
      ]
     },
     "execution_count": 16,
     "metadata": {},
     "output_type": "execute_result"
    }
   ],
   "source": [
    "update_pinecone_docs, update_pinecone_texts"
   ]
  },
  {
   "cell_type": "markdown",
   "id": "700acf04-dc80-4a49-a9e0-0f461daf372e",
   "metadata": {},
   "source": [
    "# RoughWork"
   ]
  },
  {
   "cell_type": "code",
   "execution_count": 18,
   "id": "567e09d5-6f09-46d9-80b9-f804792b11d1",
   "metadata": {},
   "outputs": [],
   "source": []
  },
  {
   "cell_type": "code",
   "execution_count": 28,
   "id": "fdf51d7b-73bc-499d-a1b9-06bcdc9198c3",
   "metadata": {},
   "outputs": [
    {
     "data": {
      "text/plain": [
       "'minimal-index-dynamic-chatbot'"
      ]
     },
     "execution_count": 28,
     "metadata": {},
     "output_type": "execute_result"
    }
   ],
   "source": [
    "docsearch.configuration.server_variables['index_name']"
   ]
  },
  {
   "cell_type": "code",
   "execution_count": 40,
   "id": "1f1f663b-be66-4dfd-b7f1-9edd9ec4616f",
   "metadata": {
    "scrolled": true
   },
   "outputs": [
    {
     "ename": "AttributeError",
     "evalue": "'Pinecone' object has no attribute 'configuration'",
     "output_type": "error",
     "traceback": [
      "\u001b[0;31m---------------------------------------------------------------------------\u001b[0m",
      "\u001b[0;31mAttributeError\u001b[0m                            Traceback (most recent call last)",
      "Cell \u001b[0;32mIn[40], line 1\u001b[0m\n\u001b[0;32m----> 1\u001b[0m \u001b[43mdocsearch\u001b[49m\u001b[38;5;241;43m.\u001b[39;49m\u001b[43mconfiguration\u001b[49m\u001b[38;5;241m.\u001b[39m\u001b[38;5;18m__dict__\u001b[39m\n",
      "\u001b[0;31mAttributeError\u001b[0m: 'Pinecone' object has no attribute 'configuration'"
     ]
    }
   ],
   "source": [
    "docsearch.configuration.__dict__"
   ]
  },
  {
   "cell_type": "code",
   "execution_count": 33,
   "id": "8c4153ef-a05f-4935-acce-1c6325d2e495",
   "metadata": {
    "scrolled": true
   },
   "outputs": [
    {
     "data": {
      "text/plain": [
       "{}"
      ]
     },
     "execution_count": 33,
     "metadata": {},
     "output_type": "execute_result"
    }
   ],
   "source": [
    "docsearch.delete(delete_all=True)"
   ]
  },
  {
   "cell_type": "code",
   "execution_count": 53,
   "id": "4a91836c-b903-4ed6-bcea-954542534ead",
   "metadata": {},
   "outputs": [],
   "source": [
    "updated_index = update_pinecone_docs(docsearch,docs,pinecone_mw_index_name)"
   ]
  },
  {
   "cell_type": "code",
   "execution_count": 62,
   "id": "f32cbe2b-7fd7-4c48-940b-488bec180f5a",
   "metadata": {},
   "outputs": [
    {
     "data": {
      "text/plain": [
       "5947"
      ]
     },
     "execution_count": 62,
     "metadata": {},
     "output_type": "execute_result"
    }
   ],
   "source": [
    "docs, top_doc = return_docs_from_pinecone_lang(updated_index,'resolve')\n",
    "len(docs)"
   ]
  },
  {
   "cell_type": "code",
   "execution_count": 45,
   "id": "55b7f94a-990f-4e23-a7c2-7fbaa56e6167",
   "metadata": {},
   "outputs": [
    {
     "data": {
      "text/plain": [
       "<langchain.vectorstores.pinecone.Pinecone at 0x7f59427c1900>"
      ]
     },
     "execution_count": 45,
     "metadata": {},
     "output_type": "execute_result"
    }
   ],
   "source": [
    "updated_index"
   ]
  },
  {
   "cell_type": "code",
   "execution_count": 51,
   "id": "9c0699e1-a4c3-43ee-8fc1-b4ecaa4f9ccd",
   "metadata": {},
   "outputs": [
    {
     "ename": "TypeError",
     "evalue": "Pinecone.get_pinecone_index() missing 1 required positional argument: 'index_name'",
     "output_type": "error",
     "traceback": [
      "\u001b[0;31m---------------------------------------------------------------------------\u001b[0m",
      "\u001b[0;31mTypeError\u001b[0m                                 Traceback (most recent call last)",
      "Cell \u001b[0;32mIn[51], line 1\u001b[0m\n\u001b[0;32m----> 1\u001b[0m \u001b[43mupdated_index\u001b[49m\u001b[38;5;241;43m.\u001b[39;49m\u001b[43mget_pinecone_index\u001b[49m\u001b[43m(\u001b[49m\u001b[43m)\u001b[49m\n",
      "\u001b[0;31mTypeError\u001b[0m: Pinecone.get_pinecone_index() missing 1 required positional argument: 'index_name'"
     ]
    }
   ],
   "source": [
    "updated_index.get_pinecone_index()"
   ]
  },
  {
   "cell_type": "code",
   "execution_count": 63,
   "id": "357be443-c7d5-4f46-a70b-18fa78d6b063",
   "metadata": {
    "scrolled": true
   },
   "outputs": [
    {
     "data": {
      "text/plain": [
       "4"
      ]
     },
     "execution_count": 63,
     "metadata": {},
     "output_type": "execute_result"
    }
   ],
   "source": [
    "a = updated_index.similarity_search('Resolve',)\n",
    "len(a)"
   ]
  },
  {
   "cell_type": "code",
   "execution_count": null,
   "id": "dedf7ced-af32-4588-8c94-2c02ec3abcb5",
   "metadata": {},
   "outputs": [],
   "source": []
  }
 ],
 "metadata": {
  "kernelspec": {
   "display_name": "langchain-3.10.2",
   "language": "python",
   "name": "langchain-3.10.2"
  },
  "language_info": {
   "codemirror_mode": {
    "name": "ipython",
    "version": 3
   },
   "file_extension": ".py",
   "mimetype": "text/x-python",
   "name": "python",
   "nbconvert_exporter": "python",
   "pygments_lexer": "ipython3",
   "version": "3.10.2"
  }
 },
 "nbformat": 4,
 "nbformat_minor": 5
}
